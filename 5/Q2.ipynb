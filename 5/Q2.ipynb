{
 "cells": [
  {
   "cell_type": "code",
   "execution_count": null,
   "metadata": {},
   "outputs": [],
   "source": [
    "import numpy as np\n",
    "import pandas as pd\n",
    "import matplotlib.pyplot as plt"
   ]
  },
  {
   "cell_type": "code",
   "execution_count": null,
   "metadata": {},
   "outputs": [],
   "source": [
    "df = pd.read_csv('TaxiData.csv')\n",
    "\n",
    "# print(df['trip_seconds'].isna().sum())\n",
    "df['trip_seconds'] = df['trip_seconds'].fillna(0)\n",
    "\n",
    "# df.sort_values(by='trip_miles')"
   ]
  },
  {
   "cell_type": "code",
   "execution_count": null,
   "metadata": {},
   "outputs": [],
   "source": [
    "# 2.a\n",
    "\n",
    "df_start_hour = df['trip_start_hour']\n",
    "hour_freq = df_start_hour.value_counts()\n",
    "plt.bar(hour_freq.index, hour_freq)\n",
    "plt.savefig('2a_1.png')\n",
    "plt.show()\n",
    "plt.close()\n",
    "\n",
    "df_start_day = df['trip_start_day']\n",
    "day_freq = df_start_day.value_counts()\n",
    "plt.bar(day_freq.index, day_freq)\n",
    "plt.savefig('2a_2.png')\n",
    "plt.show()\n",
    "plt.close()\n",
    "\n",
    "df_start_month = df['trip_start_month']\n",
    "month_freq = df_start_month.value_counts()\n",
    "plt.bar(month_freq.index, month_freq)\n",
    "plt.savefig('2a_3.png')\n",
    "plt.show()\n",
    "plt.close()"
   ]
  },
  {
   "cell_type": "code",
   "execution_count": null,
   "metadata": {},
   "outputs": [],
   "source": [
    "# 2.b\n",
    "\n",
    "plt.imshow(hour_freq.sort_index().values.reshape(-1, 1), cmap='viridis')\n",
    "plt.xticks([])\n",
    "plt.colorbar()\n",
    "plt.savefig('2b_1.png')\n",
    "plt.show()\n",
    "plt.close()\n",
    "\n",
    "# peak hours : 19, 20, 18, 21\n",
    "\n",
    "plt.subplot(2, 2, 1)\n",
    "df_dist_19 = df.query('trip_start_hour == 19')['trip_miles']\n",
    "bins = np.linspace(df_dist_19.min(), df_dist_19.max(), 100)\n",
    "plt.hist(df_dist_19.values, bins)\n",
    "\n",
    "plt.subplot(2, 2, 2)\n",
    "df_dist_20 = df.query('trip_start_hour == 20')['trip_miles']\n",
    "bins = np.linspace(df_dist_20.min(), df_dist_20.max(), 100)\n",
    "plt.hist(df_dist_20.values, bins)\n",
    "\n",
    "plt.subplot(2, 2, 3)\n",
    "df_dist_18 = df.query('trip_start_hour == 18')['trip_miles']\n",
    "bins = np.linspace(df_dist_18.min(), df_dist_18.max(), 100)\n",
    "plt.hist(df_dist_18.values, bins)\n",
    "\n",
    "plt.subplot(2, 2, 4)\n",
    "df_dist_21 = df.query('trip_start_hour == 21')['trip_miles']\n",
    "bins = np.linspace(df_dist_21.min(), df_dist_21.max(), 100)\n",
    "plt.hist(df_dist_21.values, bins)\n",
    "plt.savefig('2b_2.png')\n",
    "plt.show()\n",
    "plt.close()"
   ]
  },
  {
   "cell_type": "code",
   "execution_count": null,
   "metadata": {},
   "outputs": [],
   "source": [
    "# 2.c (a)\n",
    "\n",
    "df_times = df['trip_seconds']\n",
    "plt.hist(df_times.values, bins=100)\n",
    "plt.savefig('2c_1.png')\n",
    "plt.show()\n",
    "plt.close()\n",
    "\n",
    "df_dist = df['trip_miles']\n",
    "plt.hist(df_dist.values, bins=100)\n",
    "plt.savefig('2c_2.png')\n",
    "plt.show()\n",
    "plt.close()"
   ]
  },
  {
   "cell_type": "code",
   "execution_count": null,
   "metadata": {},
   "outputs": [],
   "source": [
    "# 2.c (b)\n",
    "\n",
    "plt.scatter(df_times, df_dist)\n",
    "plt.savefig('2c_3')\n",
    "plt.show()\n",
    "plt.close()"
   ]
  },
  {
   "cell_type": "code",
   "execution_count": null,
   "metadata": {},
   "outputs": [],
   "source": [
    "# 2.d\n",
    "\n",
    "groups = df.groupby('trip_start_month')\n",
    "\n",
    "months = [i for i in range(1, 13)]\n",
    "number = [groups.get_group(i).size for i in range(1, 13)]\n",
    "distance = [groups.get_group(i)['trip_miles'].sum() for i in range(1, 13)]\n",
    "\n",
    "plt.subplot(2, 1, 1)\n",
    "plt.plot(months, number)\n",
    "plt.subplot(2, 1, 2)\n",
    "plt.plot(months, distance)\n",
    "plt.savefig('2d_1.png')\n",
    "plt.show()\n",
    "plt.close()\n"
   ]
  },
  {
   "cell_type": "code",
   "execution_count": null,
   "metadata": {},
   "outputs": [],
   "source": [
    "# 2.e\n",
    "\n",
    "groups = df.groupby('trip_start_hour')\n",
    "\n",
    "hours = [i for i in range(0, 24)]\n",
    "number = [groups.get_group(i).size for i in range(0, 24)]\n",
    "distance = [groups.get_group(i)['trip_miles'].sum() for i in range(0, 24)]\n",
    "\n",
    "plt.subplot(2, 1, 1)\n",
    "plt.plot(hours, number)\n",
    "plt.subplot(2, 1, 2)\n",
    "plt.plot(hours, distance)\n",
    "plt.savefig('2e_1.png')\n",
    "plt.show()\n",
    "plt.close()\n"
   ]
  }
 ],
 "metadata": {
  "kernelspec": {
   "display_name": ".venv",
   "language": "python",
   "name": "python3"
  },
  "language_info": {
   "codemirror_mode": {
    "name": "ipython",
    "version": 3
   },
   "file_extension": ".py",
   "mimetype": "text/x-python",
   "name": "python",
   "nbconvert_exporter": "python",
   "pygments_lexer": "ipython3",
   "version": "3.12.4"
  }
 },
 "nbformat": 4,
 "nbformat_minor": 2
}
