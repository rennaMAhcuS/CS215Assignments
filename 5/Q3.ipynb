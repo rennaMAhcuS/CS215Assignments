{
 "cells": [
  {
   "cell_type": "code",
   "execution_count": null,
   "metadata": {},
   "outputs": [],
   "source": [
    "import numpy as np\n",
    "import matplotlib.pyplot as plt\n",
    "import pandas as pd"
   ]
  },
  {
   "cell_type": "code",
   "execution_count": null,
   "metadata": {},
   "outputs": [],
   "source": [
    "df = pd.read_csv('TaxiData.csv')\n",
    "\n",
    "# print(df['payment_type'].isna().sum())\n",
    "df['trip_seconds'] = df['trip_seconds'].fillna(0)\n",
    "\n",
    "# df.sort_values(by='trip_miles')"
   ]
  },
  {
   "cell_type": "code",
   "execution_count": null,
   "metadata": {},
   "outputs": [],
   "source": [
    "# 3.a Fare\n",
    "\n",
    "df_fare = df['fare']\n",
    "plt.hist(df_fare, 100)\n",
    "plt.savefig('3a_1.png')\n",
    "plt.show()\n",
    "plt.close()\n",
    "\n",
    "print(\"Mean: \", df_fare.mean())\n",
    "print(\"Median: \", df_fare.median())\n",
    "print(\"Standard Deviation: \", df_fare.std())"
   ]
  },
  {
   "cell_type": "code",
   "execution_count": null,
   "metadata": {},
   "outputs": [],
   "source": [
    "# 3.a Tips\n",
    "\n",
    "df_tips = df['tips']\n",
    "plt.hist(df_tips, 100)\n",
    "plt.savefig('3a_2.png')\n",
    "plt.show()\n",
    "plt.close()\n",
    "\n",
    "print(\"Mean: \", df_tips.mean())\n",
    "print(\"Median: \", df_tips.median())\n",
    "print(\"Standard Deviation: \", df_tips.std())"
   ]
  },
  {
   "cell_type": "code",
   "execution_count": null,
   "metadata": {},
   "outputs": [],
   "source": [
    "sizes = df['payment_type'].value_counts()\n",
    "labels=df['payment_type'].value_counts().index\n",
    "\n",
    "wedges, texts, autotexts = plt.pie(sizes, labels=[None]*len(labels), autopct='%1.3f%%')\n",
    "\n",
    "legend_labels = [f\"{label} - {autotext.get_text()}\" for label, autotext in zip(labels, autotexts)]\n",
    "plt.legend(legend_labels, title=\"Categories\", bbox_to_anchor=(1, 0.5))\n",
    "plt.savefig('3a_3.png')\n",
    "plt.show()\n",
    "plt.close()\n"
   ]
  }
 ],
 "metadata": {
  "kernelspec": {
   "display_name": ".venv",
   "language": "python",
   "name": "python3"
  },
  "language_info": {
   "codemirror_mode": {
    "name": "ipython",
    "version": 3
   },
   "file_extension": ".py",
   "mimetype": "text/x-python",
   "name": "python",
   "nbconvert_exporter": "python",
   "pygments_lexer": "ipython3",
   "version": "3.12.4"
  }
 },
 "nbformat": 4,
 "nbformat_minor": 2
}
