{
 "cells": [
  {
   "cell_type": "code",
   "execution_count": null,
   "metadata": {
    "id": "IiMx7COlpbia"
   },
   "outputs": [],
   "source": [
    "#imports\n",
    "import numpy as np\n",
    "import pandas as pd\n",
    "import matplotlib.pyplot as plt\n",
    "import seaborn as sns"
   ]
  },
  {
   "cell_type": "code",
   "execution_count": null,
   "metadata": {
    "id": "dUblyP3wpho_"
   },
   "outputs": [],
   "source": [
    "# Load the dataset\n",
    "df = pd.read_csv('/path/to/TaxiData.csv')"
   ]
  },
  {
   "cell_type": "markdown",
   "metadata": {
    "id": "hnOgRMuvoI9p"
   },
   "source": [
    "```\n",
    "Analysis on overall Dataset.\n",
    "Provide info about columns and its Datatypes.\n",
    "State missing values and other organic analysis.\n",
    "```"
   ]
  },
  {
   "cell_type": "markdown",
   "metadata": {
    "id": "_lBhbIr7xFrf"
   },
   "source": [
    "## Q 1.a"
   ]
  },
  {
   "cell_type": "code",
   "execution_count": null,
   "metadata": {
    "id": "W-DM1sAAn8EK"
   },
   "outputs": [],
   "source": [
    "# Check data shape, summary, ...\n",
    "\n",
    "# Identify missing values\n",
    "# Plot missing values (customize as needed)\n",
    "# missing_values.plot(...)\n",
    "\n",
    "# Any change of data type conversion required?\n"
   ]
  },
  {
   "cell_type": "code",
   "execution_count": null,
   "metadata": {
    "id": "N-wtsijYp4cg"
   },
   "outputs": [],
   "source": []
  }
 ],
 "metadata": {
  "colab": {
   "provenance": []
  },
  "kernelspec": {
   "display_name": "Python 3",
   "name": "python3"
  },
  "language_info": {
   "name": "python"
  }
 },
 "nbformat": 4,
 "nbformat_minor": 0
}
