{
 "cells": [
  {
   "cell_type": "code",
   "id": "initial_id",
   "metadata": {
    "collapsed": true,
    "ExecuteTime": {
     "end_time": "2024-10-28T18:28:35.055448Z",
     "start_time": "2024-10-28T18:28:33.842359Z"
    }
   },
   "source": [
    "import pandas as pd\n",
    "import numpy as np\n",
    "import matplotlib.pyplot as plt\n",
    "from statsmodels.graphics.tsaplots import plot_acf, plot_pacf\n",
    "from statsmodels.tsa.statespace.sarimax import SARIMAX\n",
    "from statsmodels.tsa.arima.model import ARIMA\n",
    "from sklearn.metrics import mean_absolute_percentage_error, mean_absolute_error\n",
    "from statsmodels.tsa.holtwinters import SimpleExpSmoothing\n",
    "\n",
    "import statsmodels.api as sm\n",
    "import statsmodels.tsa.api as smt\n",
    "\n",
    "import warnings\n",
    "from statsmodels.tools.sm_exceptions import ConvergenceWarning\n",
    "warnings.filterwarnings('ignore') \n",
    "warnings.simplefilter(\"ignore\", ConvergenceWarning)"
   ],
   "outputs": [],
   "execution_count": 1
  },
  {
   "metadata": {},
   "cell_type": "markdown",
   "source": "## Data Cleaning",
   "id": "6f981cadadad656f"
  },
  {
   "metadata": {
    "ExecuteTime": {
     "end_time": "2024-10-28T18:28:35.238375Z",
     "start_time": "2024-10-28T18:28:35.061109Z"
    }
   },
   "cell_type": "code",
   "source": [
    "df = pd.read_csv('parkingLot.csv', dtype={'camera_id': str}) \n",
    "\n",
    "df_entry = df[df['camera_id'] == '001'].sort_values(by='vehicle_no')\n",
    "df_entry.reset_index(drop = True, inplace = True)\n",
    "df_entry.to_csv('parkingLot_camera_001.csv', index=False)\n",
    "\n",
    "df_exit = df[df['camera_id'] == '002'].sort_values(by='vehicle_no')\n",
    "df_exit.reset_index(drop = True, inplace = True)\n",
    "df_exit.to_csv('parkingLot_camera_002.csv', index=False)\n",
    "\n",
    "duplicates = df['vehicle_no'].value_counts()[df['vehicle_no'].value_counts()%2 != 0]\n",
    "print(duplicates.shape[0])\n",
    "\n",
    "\n",
    "dd3 = pd.DataFrame({\n",
    "    'vehicle_no': ['MHWW1113', 'MHPY2628', 'MHBK0188', 'MHKA6372', 'MHYV2746', 'MHPH6142', 'MHSM0215', 'MHNO9764', 'MHCZ2221'],\n",
    "    'timestamp': ['2024-10-19 14:00:00', '2024-11-09 14:00:00', '2024-10-07 14:20:00', '2024-10-26 17:20:00', '2024-11-09 13:00:00', '2024-09-28 14:00:00', '2024-09-30 05:40:00', '2024-09-14 15:20:00', '2024-10-05 17:00:00'],\n",
    "    'camera_id': ['002', '002', '001', '002', '002', '002', '001', '001', '002']\n",
    "})\n",
    "\n",
    "unique_001 = df_entry[~df_entry['vehicle_no'].isin(df_exit['vehicle_no'])].sort_values(by='vehicle_no')\n",
    "unique_002 = df_exit[~df_exit['vehicle_no'].isin(df_entry['vehicle_no'])].sort_values(by='vehicle_no')\n",
    "Nan = df[pd.isna(df['vehicle_no'])].sort_values(by='camera_id')\n",
    "Nan_001 = Nan[Nan['camera_id'] == '001'].sort_values(by = 'timestamp')\n",
    "Nan_002 = Nan[Nan['camera_id'] == '002'].sort_values(by = 'timestamp')\n",
    "\n",
    "filtered_dd13 = dd3[dd3['camera_id'] == '001']\n",
    "updated_camera_001 = pd.concat([unique_001, filtered_dd13], ignore_index=True).sort_values(by='vehicle_no')\n",
    "filtered_dd23 = dd3[dd3['camera_id'] == '002']\n",
    "updated_camera_002 = pd.concat([unique_002, filtered_dd23], ignore_index=True).sort_values(by='vehicle_no')\n",
    "\n",
    "\n",
    "# shape\n",
    "print(Nan.shape[0])\n",
    "print(Nan_001.shape[0],Nan_002.shape[0])\n",
    "print(updated_camera_001.shape[0],updated_camera_002.shape[0])\n",
    "\n",
    "# Save to new files\n",
    "updated_camera_001.reset_index(drop=True, inplace=True)\n",
    "updated_camera_001.reset_index(drop=True, inplace=True)\n",
    "Nan_001.reset_index(drop=True, inplace=True)\n",
    "Nan_002.reset_index(drop=True, inplace=True)\n",
    "Nan.reset_index(drop= True, inplace = True)\n",
    "# updated_camera_001.to_csv('unique_camera_001.csv', index=False)\n",
    "# updated_camera_002.to_csv('unique_camera_002.csv', index=False)\n",
    "# Nan_001.to_csv('Nan_001.csv', index = False)\n",
    "# Nan_002.to_csv('Nan_002.csv', index = False)\n",
    "# Nan.to_csv('Unique_NaN.csv', index= False)"
   ],
   "id": "2201266c4e9bc363",
   "outputs": [
    {
     "name": "stdout",
     "output_type": "stream",
     "text": [
      "1471\n",
      "441\n",
      "371 70\n",
      "585 886\n"
     ]
    }
   ],
   "execution_count": 2
  },
  {
   "metadata": {
    "ExecuteTime": {
     "end_time": "2024-10-28T18:29:11.336359Z",
     "start_time": "2024-10-28T18:28:35.376237Z"
    }
   },
   "cell_type": "code",
   "source": [
    "def is_similar(vn1, vn2):\n",
    "    if len(vn1) != len(vn2):\n",
    "        return False\n",
    "    differences = sum(1 for a, b in zip(vn1, vn2) if a != b)\n",
    "    return differences <= 1\n",
    "\n",
    "\n",
    "pairs_same = []\n",
    "paired_v2 = set()\n",
    "count =0\n",
    "\n",
    "for v1_row in updated_camera_001.itertuples(index=False):\n",
    "    v1 = v1_row.vehicle_no\n",
    "    v1_time = pd.to_datetime(v1_row.timestamp)\n",
    "    \n",
    "    for v2_row in updated_camera_002.itertuples(index=False):\n",
    "        v2 = v2_row.vehicle_no\n",
    "        v2_time = pd.to_datetime(v2_row.timestamp)\n",
    "        if is_similar(v1, v2) and v1_time < v2_time:\n",
    "            if v2 == 'MHOL4368':\n",
    "                print(v1,v2)\n",
    "            if v2 not in paired_v2:\n",
    "                pairs_same.append((v1, v2))\n",
    "                paired_v2.add(v2)\n",
    "            break\n",
    "\n",
    "# Convert pairs to DataFrame for better readability\n",
    "pairs_df = pd.DataFrame(pairs_same, columns=['vehicle_no_001', 'vehicle_no_002'])"
   ],
   "id": "c76e78cfaee825d9",
   "outputs": [
    {
     "name": "stdout",
     "output_type": "stream",
     "text": [
      "MHOL4378 MHOL4368\n",
      "MHOV4368 MHOL4368\n"
     ]
    }
   ],
   "execution_count": 3
  },
  {
   "metadata": {
    "ExecuteTime": {
     "end_time": "2024-10-28T18:29:11.350713Z",
     "start_time": "2024-10-28T18:29:11.347646Z"
    }
   },
   "cell_type": "code",
   "source": [
    "# Extract the vehicle_no from pairs_df\n",
    "paired_001 = pairs_df['vehicle_no_001']\n",
    "paired_002 = pairs_df['vehicle_no_002']\n",
    "\n",
    "# Create new DataFrames excluding paired vehicle_no\n",
    "remaining_001 = updated_camera_001[~updated_camera_001['vehicle_no'].isin(paired_001)].sort_values(by='timestamp')\n",
    "remaining_002 = updated_camera_002[~updated_camera_002['vehicle_no'].isin(paired_002)].sort_values(by='timestamp')\n",
    "\n",
    "# Save to new CSV files\n",
    "remaining_002.reset_index(drop=True, inplace=True)\n",
    "remaining_001.reset_index(drop=True, inplace=True)\n",
    "# remaining_001.to_csv('remaining_unique_001.csv', index=False)\n",
    "# remaining_002.to_csv('remaining_unique_002.csv', index=False)\n",
    "print(remaining_001.shape[0],remaining_002.shape[0])"
   ],
   "id": "82906a098adcf28b",
   "outputs": [
    {
     "name": "stdout",
     "output_type": "stream",
     "text": [
      "70 371\n"
     ]
    }
   ],
   "execution_count": 4
  },
  {
   "metadata": {
    "ExecuteTime": {
     "end_time": "2024-10-28T18:29:11.481456Z",
     "start_time": "2024-10-28T18:29:11.410081Z"
    }
   },
   "cell_type": "code",
   "source": [
    "# Read the CSV file into a DataFrame\n",
    "df = pd.read_csv('parkingLot.csv', dtype= {'camera_id' : str})  # Replace with your actual file name\n",
    "\n",
    "# Sort the DataFrame by 'vehicle_no'\n",
    "df_sorted = df.sort_values(by='vehicle_no')\n",
    "\n",
    "# Save the sorted DataFrame to a new CSV file (if needed)\n",
    "df_sorted.reset_index(drop=True, inplace=True)\n",
    "# df_sorted.to_csv('sorted_parkingLot.csv', index=False)  # Save the sorted file"
   ],
   "id": "48a28642345a2dce",
   "outputs": [],
   "execution_count": 5
  },
  {
   "metadata": {
    "ExecuteTime": {
     "end_time": "2024-10-28T18:29:11.495704Z",
     "start_time": "2024-10-28T18:29:11.493212Z"
    }
   },
   "cell_type": "code",
   "source": [
    "                                # Delete a column by position (e.g., delete the 1st column, index 0)\n",
    "Nan_001_copy = Nan_001.drop(Nan_001.columns[0], axis=1)\n",
    "\n",
    "# Insert the first column from df2 at the 0th position in df1\n",
    "Nan_001_copy.insert(0, 'vehicle_no', remaining_002.iloc[:, 0])  # Adding the first column of df2 at position 0\n",
    "\n",
    "# Save the result to a new CSV file\n",
    "# Nan_001_copy.to_csv('Nan001_with_vehicle_no.csv', index=False)"
   ],
   "id": "29410f334cc40963",
   "outputs": [],
   "execution_count": 6
  },
  {
   "metadata": {
    "ExecuteTime": {
     "end_time": "2024-10-28T18:29:11.650643Z",
     "start_time": "2024-10-28T18:29:11.509817Z"
    }
   },
   "cell_type": "code",
   "source": [
    "q2_001 = df_entry[~df_entry['vehicle_no'].isin(unique_001['vehicle_no'])].sort_values(by='vehicle_no')\n",
    "q2_002 = df_exit[~df_exit['vehicle_no'].isin(unique_002['vehicle_no'])].sort_values(by='vehicle_no')\n",
    "q2_001 = q2_001[~q2_001['vehicle_no'].isin(Nan_001['vehicle_no'])].sort_values(by='vehicle_no')\n",
    "q2_002 = q2_002[~q2_002['vehicle_no'].isin(Nan_002['vehicle_no'])].sort_values(by='vehicle_no')\n",
    "\n",
    "# Sample data for demonstration (assuming q2_001 and q2_002 are already loaded DataFrames)\n",
    "vehicle_no = ['MHWW1113', 'MHPY2628', 'MHBK0188', 'MHKA6372', 'MHYV2746', 'MHPH6142', 'MHSM0215', 'MHNO9764', 'MHCZ2221']\n",
    "timestamp = ['2024-10-19 14:00:00', '2024-11-09 14:00:00', '2024-10-07 14:20:00', '2024-10-26 17:20:00', '2024-11-09 13:00:00', '2024-09-28 14:00:00', '2024-09-30 05:40:00', '2024-09-14 15:20:00', '2024-10-05 17:00:00']\n",
    "camera_id = ['002', '002', '001', '002', '002', '002', '001', '001', '002']\n",
    "\n",
    "# Assuming q2_001 and q2_002 are pre-loaded DataFrames that we want to update\n",
    "for x, y, z in zip(vehicle_no, timestamp, camera_id):\n",
    "    if z == '001':\n",
    "        q2_001 = q2_001.query(f\"vehicle_no != '{x}' or timestamp != '{y}' or camera_id != '{z}'\")\n",
    "    else:\n",
    "        q2_002 = q2_002.query(f\"vehicle_no != '{x}' or timestamp != '{y}' or camera_id != '{z}'\")\n",
    "\n",
    "print(q2_002.shape[0])\n",
    "print(q2_001.shape[0])\n",
    "q2_001.reset_index(drop= True, inplace = True)\n",
    "q2_001.to_csv('q2_001.csv', index=False)\n",
    "q2_002.reset_index(drop= True, inplace = True)\n",
    "q2_002.to_csv('q2_002.csv', index=False)"
   ],
   "id": "dfa354e225fffc79",
   "outputs": [
    {
     "name": "stdout",
     "output_type": "stream",
     "text": [
      "52391\n",
      "52391\n"
     ]
    }
   ],
   "execution_count": 7
  },
  {
   "metadata": {
    "ExecuteTime": {
     "end_time": "2024-10-28T18:29:11.697103Z",
     "start_time": "2024-10-28T18:29:11.664522Z"
    }
   },
   "cell_type": "code",
   "source": [
    "# Convert the timestamp to datetime\n",
    "q2_001['timestamp'] = pd.to_datetime(q2_001['timestamp'])\n",
    "q2_002['timestamp'] = pd.to_datetime(q2_002['timestamp'])\n",
    "\n",
    "# Add suffixes to each column name to distinguish between entry and exit\n",
    "q2_001 = q2_001.add_suffix('_entry')\n",
    "q2_002 = q2_002.add_suffix('_exit')\n",
    "\n",
    "# Concatenate DataFrames row by row\n",
    "merged_df = pd.concat([q2_001, q2_002], axis=1)\n",
    "\n",
    "# Print merged DataFrame for verification\n",
    "print(\"Merged DataFrame Row by Row:\")\n",
    "# print(merged_df)\n",
    "\n",
    "# Calculate time spent in seconds\n",
    "merged_df['time_spent'] = (merged_df['timestamp_exit'] - merged_df['timestamp_entry']).dt.total_seconds()\n",
    "\n",
    "# Extract the date for grouping\n",
    "merged_df['date'] = merged_df['timestamp_entry'].dt.date\n",
    "\n",
    "# Group by date and vehicle_no to calculate the average time spent\n",
    "average_time_spent = merged_df.groupby(['date'])['time_spent'].mean().reset_index()\n",
    "\n",
    "# Convert seconds to a more readable format (hours)\n",
    "average_time_spent['time_spent_hours'] = average_time_spent['time_spent'] / 3600\n",
    "average_time_spent.set_index('date', inplace=True)\n",
    "average_time_spent.drop(columns='time_spent',inplace=True)\n",
    "# Output the result\n",
    "print(\"\\nAverage Time Spent:\")\n",
    "print(average_time_spent)"
   ],
   "id": "4da7c37cdfac07fd",
   "outputs": [
    {
     "name": "stdout",
     "output_type": "stream",
     "text": [
      "Merged DataFrame Row by Row:\n",
      "\n",
      "Average Time Spent:\n",
      "            time_spent_hours\n",
      "date                        \n",
      "2024-09-12          6.344788\n",
      "2024-09-13         14.755639\n",
      "2024-09-14          9.720342\n",
      "2024-09-15         10.947105\n",
      "2024-09-16          9.349282\n",
      "...                      ...\n",
      "2024-11-09          3.597173\n",
      "2024-11-10          3.031695\n",
      "2024-11-11          4.683803\n",
      "2024-11-12          1.937605\n",
      "2024-11-13          5.201299\n",
      "\n",
      "[63 rows x 1 columns]\n"
     ]
    }
   ],
   "execution_count": 8
  },
  {
   "metadata": {
    "ExecuteTime": {
     "end_time": "2024-10-28T18:29:11.716139Z",
     "start_time": "2024-10-28T18:29:11.713420Z"
    }
   },
   "cell_type": "code",
   "source": [
    "def tsplot(y, lags=None, figsize=(12, 7)):\n",
    "    \"\"\"\n",
    "        Plot time series, its ACF and PACF, calculate Dickey–Fuller test\n",
    "        \n",
    "        y - timeseries\n",
    "        lags - how many lags to include in ACF, PACF calculation\n",
    "    \"\"\"\n",
    "    if not isinstance(y, pd.Series):\n",
    "        y = pd.Series(y)\n",
    "\n",
    "    fig = plt.figure(figsize=figsize)\n",
    "    layout = (2, 2)\n",
    "    ts_ax = plt.subplot2grid(layout, (0, 0), colspan=2)\n",
    "    acf_ax = plt.subplot2grid(layout, (1, 0))\n",
    "    pacf_ax = plt.subplot2grid(layout, (1, 1))\n",
    "\n",
    "    y.plot(ax=ts_ax)\n",
    "    p_value = sm.tsa.stattools.adfuller(y)[1]\n",
    "    ts_ax.set_title('Time Series Analysis Plots\\n Dickey-Fuller: p={0:.5f}'.format(p_value))\n",
    "    smt.graphics.plot_acf(y, lags=lags, ax=acf_ax)\n",
    "    smt.graphics.plot_pacf(y, lags=lags, ax=pacf_ax)\n",
    "    plt.tight_layout()"
   ],
   "id": "2f7643f476102dd9",
   "outputs": [],
   "execution_count": 9
  },
  {
   "metadata": {
    "ExecuteTime": {
     "end_time": "2024-10-28T18:29:15.336802Z",
     "start_time": "2024-10-28T18:29:11.731529Z"
    }
   },
   "cell_type": "code",
   "source": [
    "\n",
    "\n",
    "# Plotting the time series, ACF, and PACF\n",
    "tsplot(average_time_spent['time_spent_hours'], lags=20)\n",
    "\n",
    "# Split into training and testing sets\n",
    "train_size_time = int(len(average_time_spent) * 0.8)  # 80% for training\n",
    "train_time, test_time = average_time_spent.iloc[:train_size_time], average_time_spent.iloc[train_size_time:]\n",
    "\n",
    "# SARIMAX Model fitting\n",
    "model_time = SARIMAX(train_time['time_spent_hours'], order=(3, 1, 3), seasonal_order=(2, 1, 5, 7))  # Example parameters\n",
    "model_fit_time = model_time.fit()\n",
    "\n",
    "# Model for the full dataset to make future predictions\n",
    "full_model_time = SARIMAX(average_time_spent['time_spent_hours'], order=(3, 1, 3), seasonal_order=(2, 1, 5, 7))\n",
    "full_model_fit_time = full_model_time.fit()\n",
    "\n",
    "# Make predictions for the test set\n",
    "if not test.empty:\n",
    "    test_forecast_time = model_fit_time.forecast(steps=len(test_time))\n",
    "    \n",
    "    # Plotting forecast vs actual values\n",
    "    plt.figure(figsize=(10, 4))\n",
    "    plt.plot(test_time.index, test_time['time_spent_hours'], label='Actual Test Values', color='blue')\n",
    "    plt.plot(test_time.index, test_forecast_time, label='Predicted Test Values', color='orange')\n",
    "    plt.title('Actual vs Predicted - Test Set')\n",
    "    plt.xlabel('Date')\n",
    "    plt.ylabel('Average Time Spent (hours)')\n",
    "    plt.legend()\n",
    "    plt.show()\n",
    "\n",
    "    # Calculate metrics\n",
    "    mape = mean_absolute_percentage_error(test_time['time_spent_hours'], test_forecast_time)\n",
    "    mase = mean_absolute_error(test_time['time_spent_hours'], test_forecast_time) / np.mean(np.abs(np.diff(train_time['time_spent_hours'])))\n",
    "    print(f'MAPE: {mape:.2f}, MASE: {mase:.2f}')\n",
    "\n",
    "# Forecast the next 7 days\n",
    "forecast_steps = 7\n",
    "future_forecast_time = full_model_fit_time.forecast(steps=forecast_steps)\n",
    "print(future_forecast_time)\n",
    "\n",
    "# Prepare the date index for the forecast using the last date in the index\n",
    "forecast_dates = pd.date_range(start=average_time_spent.index[-1] + pd.Timedelta(days=1), periods=forecast_steps)\n",
    "\n",
    "# Plot the forecast\n",
    "plt.figure(figsize=(10, 4))\n",
    "plt.plot(average_time_spent['time_spent_hours'], label='Historical Data')\n",
    "plt.plot(forecast_dates, future_forecast_time, label='7-Day Forecast', color='orange')\n",
    "plt.title('7-Day Forecast')\n",
    "plt.xlabel('Date')\n",
    "plt.ylabel('Average Time Spent (hours)')\n",
    "plt.legend()\n",
    "plt.show()"
   ],
   "id": "79804b3cb3ec0f7",
   "outputs": [
    {
     "name": "stdout",
     "output_type": "stream",
     "text": [
      "RUNNING THE L-BFGS-B CODE\n",
      "\n",
      "           * * *\n",
      "\n",
      "Machine precision = 2.220D-16\n",
      " N =           14     M =           10\n",
      "\n",
      "At X0         0 variables are exactly at the bounds\n",
      "\n",
      "At iterate    0    f=  3.62199D+00    |proj g|=  2.87351D+00\n"
     ]
    },
    {
     "name": "stderr",
     "output_type": "stream",
     "text": [
      " This problem is unconstrained.\n"
     ]
    },
    {
     "name": "stdout",
     "output_type": "stream",
     "text": [
      "\n",
      "At iterate    5    f=  1.71223D+00    |proj g|=  1.30858D-01\n",
      "\n",
      "At iterate   10    f=  1.65948D+00    |proj g|=  2.90812D-02\n",
      "\n",
      "At iterate   15    f=  1.64708D+00    |proj g|=  2.53114D-02\n",
      "\n",
      "At iterate   20    f=  1.64349D+00    |proj g|=  1.51859D-02\n",
      "\n",
      "At iterate   25    f=  1.64082D+00    |proj g|=  1.42809D-02\n",
      "\n",
      "At iterate   30    f=  1.64054D+00    |proj g|=  4.21159D-03\n",
      "\n",
      "At iterate   35    f=  1.63903D+00    |proj g|=  1.11136D-02\n",
      "\n",
      "At iterate   40    f=  1.63855D+00    |proj g|=  1.67000D-02\n",
      "\n",
      "At iterate   45    f=  1.63843D+00    |proj g|=  1.05852D-03\n",
      "\n",
      "At iterate   50    f=  1.63839D+00    |proj g|=  2.69884D-03\n",
      "\n",
      "           * * *\n",
      "\n",
      "Tit   = total number of iterations\n",
      "Tnf   = total number of function evaluations\n",
      "Tnint = total number of segments explored during Cauchy searches\n",
      "Skip  = number of BFGS updates skipped\n",
      "Nact  = number of active bounds at final generalized Cauchy point\n",
      "Projg = norm of the final projected gradient\n",
      "F     = final function value\n",
      "\n",
      "           * * *\n",
      "\n",
      "   N    Tit     Tnf  Tnint  Skip  Nact     Projg        F\n",
      "   14     50     58      1     0     0   2.699D-03   1.638D+00\n",
      "  F =   1.6383884943832576     \n",
      "\n",
      "STOP: TOTAL NO. of ITERATIONS REACHED LIMIT                 \n",
      "RUNNING THE L-BFGS-B CODE\n",
      "\n",
      "           * * *\n",
      "\n",
      "Machine precision = 2.220D-16\n",
      " N =           14     M =           10\n",
      "\n",
      "At X0         0 variables are exactly at the bounds\n",
      "\n",
      "At iterate    0    f=  2.33422D+00    |proj g|=  7.97267D-01\n"
     ]
    },
    {
     "name": "stderr",
     "output_type": "stream",
     "text": [
      " This problem is unconstrained.\n"
     ]
    },
    {
     "name": "stdout",
     "output_type": "stream",
     "text": [
      "\n",
      "At iterate    5    f=  1.66562D+00    |proj g|=  1.55777D-01\n",
      "\n",
      "At iterate   10    f=  1.61493D+00    |proj g|=  5.37178D-02\n",
      "\n",
      "At iterate   15    f=  1.59951D+00    |proj g|=  3.98817D-02\n",
      "\n",
      "At iterate   20    f=  1.58486D+00    |proj g|=  1.44118D-02\n",
      "\n",
      "At iterate   25    f=  1.58301D+00    |proj g|=  4.07616D-03\n",
      "\n",
      "At iterate   30    f=  1.58284D+00    |proj g|=  1.13788D-02\n",
      "\n",
      "At iterate   35    f=  1.58267D+00    |proj g|=  3.06057D-03\n",
      "\n",
      "At iterate   40    f=  1.58262D+00    |proj g|=  1.55379D-03\n",
      "\n",
      "At iterate   45    f=  1.58250D+00    |proj g|=  2.92854D-03\n",
      "\n",
      "At iterate   50    f=  1.58246D+00    |proj g|=  1.69807D-03\n",
      "\n",
      "           * * *\n",
      "\n",
      "Tit   = total number of iterations\n",
      "Tnf   = total number of function evaluations\n",
      "Tnint = total number of segments explored during Cauchy searches\n",
      "Skip  = number of BFGS updates skipped\n",
      "Nact  = number of active bounds at final generalized Cauchy point\n",
      "Projg = norm of the final projected gradient\n",
      "F     = final function value\n",
      "\n",
      "           * * *\n",
      "\n",
      "   N    Tit     Tnf  Tnint  Skip  Nact     Projg        F\n",
      "   14     50     60      1     0     0   1.698D-03   1.582D+00\n",
      "  F =   1.5824622067066783     \n",
      "\n",
      "STOP: TOTAL NO. of ITERATIONS REACHED LIMIT                 \n"
     ]
    },
    {
     "ename": "NameError",
     "evalue": "name 'test' is not defined",
     "output_type": "error",
     "traceback": [
      "\u001B[0;31m---------------------------------------------------------------------------\u001B[0m",
      "\u001B[0;31mNameError\u001B[0m                                 Traceback (most recent call last)",
      "Cell \u001B[0;32mIn[10], line 17\u001B[0m\n\u001B[1;32m     14\u001B[0m full_model_fit_time \u001B[38;5;241m=\u001B[39m full_model_time\u001B[38;5;241m.\u001B[39mfit()\n\u001B[1;32m     16\u001B[0m \u001B[38;5;66;03m# Make predictions for the test set\u001B[39;00m\n\u001B[0;32m---> 17\u001B[0m \u001B[38;5;28;01mif\u001B[39;00m \u001B[38;5;129;01mnot\u001B[39;00m test\u001B[38;5;241m.\u001B[39mempty:\n\u001B[1;32m     18\u001B[0m     test_forecast_time \u001B[38;5;241m=\u001B[39m model_fit_time\u001B[38;5;241m.\u001B[39mforecast(steps\u001B[38;5;241m=\u001B[39m\u001B[38;5;28mlen\u001B[39m(test_time))\n\u001B[1;32m     20\u001B[0m     \u001B[38;5;66;03m# Plotting forecast vs actual values\u001B[39;00m\n",
      "\u001B[0;31mNameError\u001B[0m: name 'test' is not defined"
     ]
    },
    {
     "data": {
      "text/plain": [
       "<Figure size 1200x700 with 3 Axes>"
      ],
      "image/png": "[encoded data removed]"
     },
     "metadata": {},
     "output_type": "display_data"
    }
   ],
   "execution_count": 10
  }
 ],
 "metadata": {
  "kernelspec": {
   "display_name": "Python 3",
   "language": "python",
   "name": "python3"
  },
  "language_info": {
   "codemirror_mode": {
    "name": "ipython",
    "version": 2
   },
   "file_extension": ".py",
   "mimetype": "text/x-python",
   "name": "python",
   "nbconvert_exporter": "python",
   "pygments_lexer": "ipython2",
   "version": "2.7.6"
  }
 },
 "nbformat": 4,
 "nbformat_minor": 5
}
